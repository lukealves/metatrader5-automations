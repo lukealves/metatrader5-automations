{
 "cells": [
  {
   "cell_type": "markdown",
   "id": "ea0c0aa1-8382-49b6-b901-870f0576742d",
   "metadata": {},
   "source": [
    "### Importando o IPython para executar código diretamente\n",
    "\n",
    "Este trecho de código utiliza a biblioteca `IPython` para executar um notebook específico, `funcoes.ipynb`, diretamente dentro do ambiente atual. Através do comando `run_line_magic`, o notebook é carregado e as funções e bibliotecas nele definidas ficam acessíveis para o código que está sendo executado.\n",
    "\n",
    "## Comando:"
   ]
  },
  {
   "cell_type": "code",
   "execution_count": 1,
   "id": "6d7b5add-7bd2-42a0-822b-a7b3bc7dc0b9",
   "metadata": {},
   "outputs": [],
   "source": [
    "# Importando o IPython para executar código diretamente\n",
    "from IPython import get_ipython\n",
    "\n",
    "# Executando o notebook 'funcoes.ipynb' usando o comando correto de line magic\n",
    "get_ipython().run_line_magic('run', 'funcoes.ipynb')"
   ]
  },
  {
   "cell_type": "markdown",
   "id": "de6b5e6e-79c1-453a-98b8-a7ed520a21ac",
   "metadata": {},
   "source": [
    "## Executando o Script para Extração de Dados\n",
    "\n",
    "O código inicia a execução da função `main()`, que é responsável por coordenar todo o processo de coleta de dados históricos do MetaTrader 5. Isso inclui conectar à plataforma, coletar informações do usuário, extrair dados e, finalmente, salvar os resultados. A execução do script é realizada dentro do bloco `if __name__ == \"__main__\":`, garantindo que o código seja executado apenas quando o script for rodado diretamente, e não quando importado como módulo.\n",
    "\n",
    "### Função Principal\n",
    "A função `main()` é o ponto central de execução. Ela conecta ao MetaTrader 5, coleta dados do usuário sobre o ativo, timeframe e período desejados, e finalmente chama a função para coletar os dados e salvá-los.\n",
    "\n",
    "### Função para Coletar Dados Históricos\n",
    "\n",
    "A função `get_data()` é responsável por coletar os dados históricos do ativo no MetaTrader 5 com base no símbolo, timeframe e número de períodos especificados. Ela converte os dados para um formato amigável usando o `pandas`, e organiza as colunas de forma adequada para análise.\n",
    "\n",
    "### Função para Salvar os Dados\n",
    "A função `save_file()` permite ao usuário salvar os dados coletados em um arquivo `.csv` ou `.xlsx`, escolhendo o local e o nome do arquivo através de uma interface gráfica. Ela utiliza a biblioteca `tkinter` para abrir um diálogo de seleção de arquivos e, conforme a extensão do arquivo, utiliza os métodos do `pandas` para salvar os dados no formato escolhido.\n",
    "\n",
    "## Comando:"
   ]
  },
  {
   "cell_type": "code",
   "execution_count": 7,
   "id": "91af7797-965c-4c57-978e-cca1895df75c",
   "metadata": {},
   "outputs": [
    {
     "name": "stdin",
     "output_type": "stream",
     "text": [
      "Digite o símbolo do ativo (por exemplo, EURUSD):  USDCAD\n"
     ]
    },
    {
     "name": "stdout",
     "output_type": "stream",
     "text": [
      "Escolha o timeframe:\n",
      "1 - M1 (1 minuto)\n",
      "2 - M5 (5 minutos)\n",
      "3 - M15 (15 minutos)\n",
      "4 - M30 (30 minutos)\n",
      "5 - H1 (1 hora)\n",
      "6 - H4 (4 horas)\n",
      "7 - D1 (1 dia)\n",
      "8 - W1 (1 semana)\n",
      "9 - MN1 (1 mês)\n"
     ]
    },
    {
     "name": "stdin",
     "output_type": "stream",
     "text": [
      "Digite o número correspondente ao timeframe:  1\n",
      "Digite o número de períodos desejados:  1000\n"
     ]
    },
    {
     "name": "stdout",
     "output_type": "stream",
     "text": [
      "\n",
      "Dados coletados:\n",
      "                   DATE     open     high      low    close  tick_volume   \n",
      "0   2025-02-06 14:42:00  1.43521  1.43530  1.43514  1.43517           48  \\\n",
      "1   2025-02-06 14:43:00  1.43517  1.43517  1.43491  1.43495           35   \n",
      "2   2025-02-06 14:44:00  1.43488  1.43498  1.43482  1.43496           27   \n",
      "3   2025-02-06 14:45:00  1.43489  1.43500  1.43476  1.43478           46   \n",
      "4   2025-02-06 14:46:00  1.43479  1.43489  1.43473  1.43478           45   \n",
      "..                  ...      ...      ...      ...      ...          ...   \n",
      "995 2025-02-07 07:17:00  1.43206  1.43206  1.43201  1.43204           10   \n",
      "996 2025-02-07 07:18:00  1.43204  1.43204  1.43192  1.43196           18   \n",
      "997 2025-02-07 07:19:00  1.43195  1.43198  1.43193  1.43195           13   \n",
      "998 2025-02-07 07:20:00  1.43195  1.43205  1.43195  1.43205            7   \n",
      "999 2025-02-07 07:21:00  1.43205  1.43205  1.43205  1.43205            1   \n",
      "\n",
      "     spread  \n",
      "0         5  \n",
      "1         5  \n",
      "2         5  \n",
      "3         5  \n",
      "4         5  \n",
      "..      ...  \n",
      "995       5  \n",
      "996       5  \n",
      "997       5  \n",
      "998       5  \n",
      "999       5  \n",
      "\n",
      "[1000 rows x 7 columns]\n",
      "Arquivo salvo em: C:/Users/lucas/Desktop/git/matatrader-automation/datasets/USDCAD_M1_1000P.csv\n"
     ]
    }
   ],
   "source": [
    "# Executar o scrip para extração de dados\n",
    "if __name__ == \"__main__\":\n",
    "    main()"
   ]
  },
  {
   "cell_type": "markdown",
   "id": "b2cdc828-497f-469c-bd5f-ce884aaeb25f",
   "metadata": {},
   "source": [
    "## Executar Negociação\n",
    "\n",
    "A função `executar_negociacao()` executa a negociação no MetaTrader 5. Ela realiza as seguintes ações:\n",
    "\n",
    "1. Inicializa a plataforma MetaTrader 5.\n",
    "2. Solicita ao usuário o símbolo do ativo (ex: EURUSD).\n",
    "3. Verifica se o mercado está aberto para o ativo informado.\n",
    "4. Verifica se já existem ordens abertas para o ativo.\n",
    "5. Solicita ao usuário o volume desejado para a negociação e valida o valor.\n",
    "6. Chama a função de decisão de negociação para determinar se será feita uma compra ou venda.\n",
    "\n",
    "### Função para Garantir que o Volume Esteja no Formato Correto\n",
    "A função `validar_volume()` garante que o volume inserido pelo usuário seja um número válido, dentro do intervalo permitido (0.00 a 500.00) e com duas casas decimais.\n",
    "\n",
    "### Função para Verificar se o Mercado do Ativo Está Aberto\n",
    "A função `is_market_open()` verifica se o mercado do ativo está aberto para negociação. Ela analisa a visibilidade do ativo e se o mercado está disponível para trading.\n",
    "\n",
    "### Função para Verificar Ordens Abertas para o Ativo\n",
    "A função `check_open_positions()` verifica se há ordens abertas para o ativo escolhido. Ela retorna informações sobre as ordens em aberto, se houver.\n",
    "\n",
    "### Função para Enviar Ordens de Compra e Venda\n",
    "As funções `send_buy_limit_order()` e `send_sell_limit_order()` enviam ordens de compra e venda no MetaTrader 5, com a estrutura necessária para definir o tipo de ordem, preço, volume, stop loss e take profit.\n",
    "\n",
    "### Função para Tomar Decisão de Negociação\n",
    "A função `make_trade_decision()` calcula a previsão do preço de fechamento com base nos preços de Bid e Ask e decide se a ordem será de compra ou venda, dependendo do valor previsto.\n",
    "\n",
    "## Comando:"
   ]
  },
  {
   "cell_type": "code",
   "execution_count": null,
   "id": "1dd0d50a-c44d-470e-a55b-de68aa402c65",
   "metadata": {},
   "outputs": [
    {
     "name": "stdout",
     "output_type": "stream",
     "text": [
      "Verificando ordens abertas para o ativo EURUSD:\n",
      "Ativo: EURUSD, Volume: 20.0, Tipo: Compra\n",
      "Ativo: EURUSD, Volume: 10.0, Tipo: Compra\n",
      "Existem ordens abertas para o ativo EURUSD.\n",
      "DEBUG: Mercado aberto? True | Ordens abertas? None\n",
      "Iniciando negociação para EURUSD...\n",
      "Previsão de fechamento calculada: 1.03298\n",
      "Ordem de venda enviada com sucesso, id da ordem: 52100751035\n",
      "Venda ao preço 1.03306. Compra (take profit) ao preço 1.0329817273115411. Stop loss: 1.2395780727738492\n",
      "Negociação executada. Aguardando 300 segundos para a próxima verificação...\n"
     ]
    }
   ],
   "source": [
    "# Executar negociação\n",
    "executar_negociacao()"
   ]
  },
  {
   "cell_type": "code",
   "execution_count": null,
   "id": "cd94f22b-4ff4-47dc-ae37-3f2ce2638c64",
   "metadata": {},
   "outputs": [],
   "source": []
  }
 ],
 "metadata": {
  "kernelspec": {
   "display_name": "Python 3 (ipykernel)",
   "language": "python",
   "name": "python3"
  },
  "language_info": {
   "codemirror_mode": {
    "name": "ipython",
    "version": 3
   },
   "file_extension": ".py",
   "mimetype": "text/x-python",
   "name": "python",
   "nbconvert_exporter": "python",
   "pygments_lexer": "ipython3",
   "version": "3.11.3"
  }
 },
 "nbformat": 4,
 "nbformat_minor": 5
}
